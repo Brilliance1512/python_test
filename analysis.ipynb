{
 "cells": [
  {
   "cell_type": "code",
   "execution_count": 1,
   "metadata": {},
   "outputs": [],
   "source": [
    "import pandas as pd\n",
    "data = pd.read_csv(\"final_df.csv\")"
   ]
  },
  {
   "cell_type": "code",
   "execution_count": 2,
   "metadata": {},
   "outputs": [
    {
     "name": "stdout",
     "output_type": "stream",
     "text": [
      "N of rows: 960\n",
      "N of cols: 11\n"
     ]
    },
    {
     "data": {
      "text/html": [
       "<div>\n",
       "<style scoped>\n",
       "    .dataframe tbody tr th:only-of-type {\n",
       "        vertical-align: middle;\n",
       "    }\n",
       "\n",
       "    .dataframe tbody tr th {\n",
       "        vertical-align: top;\n",
       "    }\n",
       "\n",
       "    .dataframe thead th {\n",
       "        text-align: right;\n",
       "    }\n",
       "</style>\n",
       "<table border=\"1\" class=\"dataframe\">\n",
       "  <thead>\n",
       "    <tr style=\"text-align: right;\">\n",
       "      <th></th>\n",
       "      <th>links</th>\n",
       "      <th>reviews</th>\n",
       "      <th>name</th>\n",
       "      <th>author</th>\n",
       "      <th>price</th>\n",
       "      <th>rating</th>\n",
       "      <th>rating_cnt</th>\n",
       "      <th>review_cnt</th>\n",
       "      <th>year</th>\n",
       "      <th>age</th>\n",
       "      <th>page</th>\n",
       "    </tr>\n",
       "  </thead>\n",
       "  <tbody>\n",
       "    <tr>\n",
       "      <th>0</th>\n",
       "      <td>https://www.litres.ru/book/vlad-hononov/izucha...</td>\n",
       "      <td>['Эта книга из той лиги, в которой я пока не с...</td>\n",
       "      <td>Изучаем DDD – предметно-ориентированное проект...</td>\n",
       "      <td>Влад Хононов</td>\n",
       "      <td>549.0</td>\n",
       "      <td>0.00</td>\n",
       "      <td>0</td>\n",
       "      <td>1</td>\n",
       "      <td>2022.0</td>\n",
       "      <td>0</td>\n",
       "      <td>319</td>\n",
       "    </tr>\n",
       "    <tr>\n",
       "      <th>1</th>\n",
       "      <td>https://www.litres.ru/book/toni-geddis-3249116...</td>\n",
       "      <td>['Шикарная книга! Начал изучать Python самосто...</td>\n",
       "      <td>Начинаем программировать на Python</td>\n",
       "      <td>Тони Гэддис</td>\n",
       "      <td>599.0</td>\n",
       "      <td>4.94</td>\n",
       "      <td>16</td>\n",
       "      <td>6</td>\n",
       "      <td>2021.0</td>\n",
       "      <td>12</td>\n",
       "      <td>875</td>\n",
       "    </tr>\n",
       "    <tr>\n",
       "      <th>2</th>\n",
       "      <td>https://www.litres.ru/book/martin-kleppman-173...</td>\n",
       "      <td>['Не могу что-либо про перевод сказать, читал ...</td>\n",
       "      <td>Высоконагруженные приложения. Программирование...</td>\n",
       "      <td>Мартин Клеппман</td>\n",
       "      <td>799.0</td>\n",
       "      <td>3.98</td>\n",
       "      <td>51</td>\n",
       "      <td>11</td>\n",
       "      <td>2017.0</td>\n",
       "      <td>16</td>\n",
       "      <td>640</td>\n",
       "    </tr>\n",
       "    <tr>\n",
       "      <th>3</th>\n",
       "      <td>https://www.litres.ru/book/aleks-suy/system-de...</td>\n",
       "      <td>['Добротная книга по разработке архитектуры пр...</td>\n",
       "      <td>System Design. Подготовка к сложному интервью</td>\n",
       "      <td>Алекс Сюй</td>\n",
       "      <td>699.0</td>\n",
       "      <td>3.59</td>\n",
       "      <td>17</td>\n",
       "      <td>9</td>\n",
       "      <td>2020.0</td>\n",
       "      <td>16</td>\n",
       "      <td>304</td>\n",
       "    </tr>\n",
       "    <tr>\n",
       "      <th>4</th>\n",
       "      <td>https://www.litres.ru/book/dzheyd-karter/neyro...</td>\n",
       "      <td>['Книга отличная. Давно хотела понять как все ...</td>\n",
       "      <td>Нейросети начало</td>\n",
       "      <td>Джейд Картер</td>\n",
       "      <td>690.0</td>\n",
       "      <td>4.87</td>\n",
       "      <td>437</td>\n",
       "      <td>37</td>\n",
       "      <td>2023.0</td>\n",
       "      <td>12</td>\n",
       "      <td>102</td>\n",
       "    </tr>\n",
       "  </tbody>\n",
       "</table>\n",
       "</div>"
      ],
      "text/plain": [
       "                                               links  \\\n",
       "0  https://www.litres.ru/book/vlad-hononov/izucha...   \n",
       "1  https://www.litres.ru/book/toni-geddis-3249116...   \n",
       "2  https://www.litres.ru/book/martin-kleppman-173...   \n",
       "3  https://www.litres.ru/book/aleks-suy/system-de...   \n",
       "4  https://www.litres.ru/book/dzheyd-karter/neyro...   \n",
       "\n",
       "                                             reviews  \\\n",
       "0  ['Эта книга из той лиги, в которой я пока не с...   \n",
       "1  ['Шикарная книга! Начал изучать Python самосто...   \n",
       "2  ['Не могу что-либо про перевод сказать, читал ...   \n",
       "3  ['Добротная книга по разработке архитектуры пр...   \n",
       "4  ['Книга отличная. Давно хотела понять как все ...   \n",
       "\n",
       "                                                name           author  price  \\\n",
       "0  Изучаем DDD – предметно-ориентированное проект...     Влад Хононов  549.0   \n",
       "1                 Начинаем программировать на Python      Тони Гэддис  599.0   \n",
       "2  Высоконагруженные приложения. Программирование...  Мартин Клеппман  799.0   \n",
       "3      System Design. Подготовка к сложному интервью        Алекс Сюй  699.0   \n",
       "4                                   Нейросети начало     Джейд Картер  690.0   \n",
       "\n",
       "   rating  rating_cnt  review_cnt    year  age  page  \n",
       "0    0.00           0           1  2022.0    0   319  \n",
       "1    4.94          16           6  2021.0   12   875  \n",
       "2    3.98          51          11  2017.0   16   640  \n",
       "3    3.59          17           9  2020.0   16   304  \n",
       "4    4.87         437          37  2023.0   12   102  "
      ]
     },
     "execution_count": 2,
     "metadata": {},
     "output_type": "execute_result"
    }
   ],
   "source": [
    "# 1\n",
    "print(\"N of rows:\", len(data))\n",
    "print(\"N of cols:\", len(data.columns))\n",
    "data.head()"
   ]
  },
  {
   "cell_type": "code",
   "execution_count": 3,
   "metadata": {},
   "outputs": [],
   "source": [
    "# 2 - Да\n",
    "data.isna().sum()\n",
    "data = data.dropna()"
   ]
  },
  {
   "cell_type": "code",
   "execution_count": 4,
   "metadata": {},
   "outputs": [
    {
     "name": "stdout",
     "output_type": "stream",
     "text": [
      "<class 'pandas.core.frame.DataFrame'>\n",
      "Index: 895 entries, 0 to 959\n",
      "Data columns (total 11 columns):\n",
      " #   Column      Non-Null Count  Dtype  \n",
      "---  ------      --------------  -----  \n",
      " 0   links       895 non-null    object \n",
      " 1   reviews     895 non-null    object \n",
      " 2   name        895 non-null    object \n",
      " 3   author      895 non-null    object \n",
      " 4   price       895 non-null    float64\n",
      " 5   rating      895 non-null    float64\n",
      " 6   rating_cnt  895 non-null    int64  \n",
      " 7   review_cnt  895 non-null    int64  \n",
      " 8   year        895 non-null    float64\n",
      " 9   age         895 non-null    int64  \n",
      " 10  page        895 non-null    int64  \n",
      "dtypes: float64(3), int64(4), object(4)\n",
      "memory usage: 83.9+ KB\n"
     ]
    }
   ],
   "source": [
    "# 3\n",
    "data.info()\n",
    "data['year'] = data['year'].astype(str)"
   ]
  },
  {
   "cell_type": "code",
   "execution_count": 5,
   "metadata": {},
   "outputs": [
    {
     "name": "stdout",
     "output_type": "stream",
     "text": [
      "Mode of age restriction: 0\n",
      "Mode of year written: 2023.0\n",
      "N of books with rating <4.25: 550\n"
     ]
    },
    {
     "data": {
      "text/html": [
       "<div>\n",
       "<style scoped>\n",
       "    .dataframe tbody tr th:only-of-type {\n",
       "        vertical-align: middle;\n",
       "    }\n",
       "\n",
       "    .dataframe tbody tr th {\n",
       "        vertical-align: top;\n",
       "    }\n",
       "\n",
       "    .dataframe thead th {\n",
       "        text-align: right;\n",
       "    }\n",
       "</style>\n",
       "<table border=\"1\" class=\"dataframe\">\n",
       "  <thead>\n",
       "    <tr style=\"text-align: right;\">\n",
       "      <th></th>\n",
       "      <th>price</th>\n",
       "      <th>rating</th>\n",
       "      <th>rating_cnt</th>\n",
       "      <th>review_cnt</th>\n",
       "      <th>age</th>\n",
       "      <th>page</th>\n",
       "    </tr>\n",
       "  </thead>\n",
       "  <tbody>\n",
       "    <tr>\n",
       "      <th>count</th>\n",
       "      <td>895.000000</td>\n",
       "      <td>895.000000</td>\n",
       "      <td>895.000000</td>\n",
       "      <td>895.000000</td>\n",
       "      <td>895.000000</td>\n",
       "      <td>895.000000</td>\n",
       "    </tr>\n",
       "    <tr>\n",
       "      <th>mean</th>\n",
       "      <td>360.556514</td>\n",
       "      <td>2.758804</td>\n",
       "      <td>13.280447</td>\n",
       "      <td>2.156425</td>\n",
       "      <td>5.385475</td>\n",
       "      <td>236.881564</td>\n",
       "    </tr>\n",
       "    <tr>\n",
       "      <th>std</th>\n",
       "      <td>276.403567</td>\n",
       "      <td>2.140337</td>\n",
       "      <td>41.518420</td>\n",
       "      <td>4.179167</td>\n",
       "      <td>6.812445</td>\n",
       "      <td>238.522816</td>\n",
       "    </tr>\n",
       "    <tr>\n",
       "      <th>min</th>\n",
       "      <td>40.000000</td>\n",
       "      <td>0.000000</td>\n",
       "      <td>0.000000</td>\n",
       "      <td>0.000000</td>\n",
       "      <td>0.000000</td>\n",
       "      <td>3.000000</td>\n",
       "    </tr>\n",
       "    <tr>\n",
       "      <th>25%</th>\n",
       "      <td>100.000000</td>\n",
       "      <td>0.000000</td>\n",
       "      <td>0.000000</td>\n",
       "      <td>0.000000</td>\n",
       "      <td>0.000000</td>\n",
       "      <td>13.000000</td>\n",
       "    </tr>\n",
       "    <tr>\n",
       "      <th>50%</th>\n",
       "      <td>250.000000</td>\n",
       "      <td>3.920000</td>\n",
       "      <td>2.000000</td>\n",
       "      <td>1.000000</td>\n",
       "      <td>0.000000</td>\n",
       "      <td>195.000000</td>\n",
       "    </tr>\n",
       "    <tr>\n",
       "      <th>75%</th>\n",
       "      <td>549.000000</td>\n",
       "      <td>4.670000</td>\n",
       "      <td>9.000000</td>\n",
       "      <td>3.000000</td>\n",
       "      <td>12.000000</td>\n",
       "      <td>382.000000</td>\n",
       "    </tr>\n",
       "    <tr>\n",
       "      <th>max</th>\n",
       "      <td>2200.000000</td>\n",
       "      <td>5.000000</td>\n",
       "      <td>437.000000</td>\n",
       "      <td>41.000000</td>\n",
       "      <td>18.000000</td>\n",
       "      <td>1223.000000</td>\n",
       "    </tr>\n",
       "  </tbody>\n",
       "</table>\n",
       "</div>"
      ],
      "text/plain": [
       "             price      rating  rating_cnt  review_cnt         age  \\\n",
       "count   895.000000  895.000000  895.000000  895.000000  895.000000   \n",
       "mean    360.556514    2.758804   13.280447    2.156425    5.385475   \n",
       "std     276.403567    2.140337   41.518420    4.179167    6.812445   \n",
       "min      40.000000    0.000000    0.000000    0.000000    0.000000   \n",
       "25%     100.000000    0.000000    0.000000    0.000000    0.000000   \n",
       "50%     250.000000    3.920000    2.000000    1.000000    0.000000   \n",
       "75%     549.000000    4.670000    9.000000    3.000000   12.000000   \n",
       "max    2200.000000    5.000000  437.000000   41.000000   18.000000   \n",
       "\n",
       "              page  \n",
       "count   895.000000  \n",
       "mean    236.881564  \n",
       "std     238.522816  \n",
       "min       3.000000  \n",
       "25%      13.000000  \n",
       "50%     195.000000  \n",
       "75%     382.000000  \n",
       "max    1223.000000  "
      ]
     },
     "execution_count": 5,
     "metadata": {},
     "output_type": "execute_result"
    }
   ],
   "source": [
    "# 4 \n",
    "# Median price - 349\n",
    "# Mode of age restriction - 0+\n",
    "# Mean review_cnt - 2.3125\n",
    "# N of books with rating <4.25 - 557\n",
    "# Most popular year - 2023\n",
    "from statistics import mode\n",
    "print(\"Mode of age restriction:\", mode(data['age']))\n",
    "print(\"Mode of year written:\", mode(data['year']))\n",
    "print(\"N of books with rating <4.25:\", len(data[data['rating'] < 4.25]))\n",
    "data.describe()"
   ]
  },
  {
   "cell_type": "code",
   "execution_count": 6,
   "metadata": {},
   "outputs": [],
   "source": [
    "# 5\n",
    "# Free point - stonks"
   ]
  },
  {
   "cell_type": "code",
   "execution_count": 7,
   "metadata": {},
   "outputs": [],
   "source": [
    "# 6\n",
    "data['is_popular'] = data.apply(lambda x: 1 if x['rating'] >= 4.6 and x['review_cnt'] >= 5 else 0, axis = 1)"
   ]
  },
  {
   "cell_type": "code",
   "execution_count": 8,
   "metadata": {},
   "outputs": [
    {
     "name": "stdout",
     "output_type": "stream",
     "text": [
      "368.1333333333333\n",
      "232.32947976878611\n"
     ]
    }
   ],
   "source": [
    "# 7\n",
    "# Popular page avg - 353.2\n",
    "# Unpopular page avg - 238.5\n",
    "print(data[data[\"is_popular\"] == 1][\"page\"].mean())\n",
    "print(data[data[\"is_popular\"] == 0][\"page\"].mean())"
   ]
  },
  {
   "cell_type": "code",
   "execution_count": 9,
   "metadata": {},
   "outputs": [
    {
     "data": {
      "text/html": [
       "<div>\n",
       "<style scoped>\n",
       "    .dataframe tbody tr th:only-of-type {\n",
       "        vertical-align: middle;\n",
       "    }\n",
       "\n",
       "    .dataframe tbody tr th {\n",
       "        vertical-align: top;\n",
       "    }\n",
       "\n",
       "    .dataframe thead th {\n",
       "        text-align: right;\n",
       "    }\n",
       "</style>\n",
       "<table border=\"1\" class=\"dataframe\">\n",
       "  <thead>\n",
       "    <tr style=\"text-align: right;\">\n",
       "      <th></th>\n",
       "      <th>name</th>\n",
       "      <th>author</th>\n",
       "      <th>review_cnt</th>\n",
       "    </tr>\n",
       "  </thead>\n",
       "  <tbody>\n",
       "    <tr>\n",
       "      <th>432</th>\n",
       "      <td>Оптимизация в Python</td>\n",
       "      <td>Джейд Картер</td>\n",
       "      <td>41</td>\n",
       "    </tr>\n",
       "    <tr>\n",
       "      <th>4</th>\n",
       "      <td>Нейросети начало</td>\n",
       "      <td>Джейд Картер</td>\n",
       "      <td>37</td>\n",
       "    </tr>\n",
       "    <tr>\n",
       "      <th>196</th>\n",
       "      <td>Психбольница в руках пациентов. Алан Купер об ...</td>\n",
       "      <td>Алан Купер</td>\n",
       "      <td>30</td>\n",
       "    </tr>\n",
       "    <tr>\n",
       "      <th>112</th>\n",
       "      <td>Теоретический минимум по Computer Science. Все...</td>\n",
       "      <td>Владстон Феррейра Фило</td>\n",
       "      <td>28</td>\n",
       "    </tr>\n",
       "    <tr>\n",
       "      <th>318</th>\n",
       "      <td>Идеальный программист. Как стать профессионало...</td>\n",
       "      <td>Роберт Мартин</td>\n",
       "      <td>27</td>\n",
       "    </tr>\n",
       "    <tr>\n",
       "      <th>459</th>\n",
       "      <td>Говорят, в IT много платят. Как построить успе...</td>\n",
       "      <td>Елена Правдина</td>\n",
       "      <td>27</td>\n",
       "    </tr>\n",
       "    <tr>\n",
       "      <th>137</th>\n",
       "      <td>#Сам себе программист. Как научиться программи...</td>\n",
       "      <td>Кори Альтхофф</td>\n",
       "      <td>25</td>\n",
       "    </tr>\n",
       "    <tr>\n",
       "      <th>37</th>\n",
       "      <td>Сделай видеоигру один и не свихнись</td>\n",
       "      <td>Слава Грис</td>\n",
       "      <td>24</td>\n",
       "    </tr>\n",
       "    <tr>\n",
       "      <th>54</th>\n",
       "      <td>Как пасти котов. Наставление для программистов...</td>\n",
       "      <td>Дж. Ханк Рейнвотер</td>\n",
       "      <td>23</td>\n",
       "    </tr>\n",
       "    <tr>\n",
       "      <th>102</th>\n",
       "      <td>Нейросети. Обработка естественного языка</td>\n",
       "      <td>Джейд Картер</td>\n",
       "      <td>19</td>\n",
       "    </tr>\n",
       "  </tbody>\n",
       "</table>\n",
       "</div>"
      ],
      "text/plain": [
       "                                                  name  \\\n",
       "432                               Оптимизация в Python   \n",
       "4                                     Нейросети начало   \n",
       "196  Психбольница в руках пациентов. Алан Купер об ...   \n",
       "112  Теоретический минимум по Computer Science. Все...   \n",
       "318  Идеальный программист. Как стать профессионало...   \n",
       "459  Говорят, в IT много платят. Как построить успе...   \n",
       "137  #Сам себе программист. Как научиться программи...   \n",
       "37                 Сделай видеоигру один и не свихнись   \n",
       "54   Как пасти котов. Наставление для программистов...   \n",
       "102           Нейросети. Обработка естественного языка   \n",
       "\n",
       "                     author  review_cnt  \n",
       "432            Джейд Картер          41  \n",
       "4              Джейд Картер          37  \n",
       "196              Алан Купер          30  \n",
       "112  Владстон Феррейра Фило          28  \n",
       "318           Роберт Мартин          27  \n",
       "459          Елена Правдина          27  \n",
       "137           Кори Альтхофф          25  \n",
       "37               Слава Грис          24  \n",
       "54       Дж. Ханк Рейнвотер          23  \n",
       "102            Джейд Картер          19  "
      ]
     },
     "execution_count": 9,
     "metadata": {},
     "output_type": "execute_result"
    }
   ],
   "source": [
    "# 8\n",
    "data.sort_values(\"review_cnt\", ascending=False).head(10)[['name', 'author', 'review_cnt']]"
   ]
  },
  {
   "cell_type": "code",
   "execution_count": 10,
   "metadata": {},
   "outputs": [
    {
     "name": "stdout",
     "output_type": "stream",
     "text": [
      "374.8305699481865\n"
     ]
    }
   ],
   "source": [
    "# 9\n",
    "import ast\n",
    "rev_cnt = 0\n",
    "rev_size = 0\n",
    "revs = data['reviews'].tolist()\n",
    "for bk in revs:\n",
    "    bk = ast.literal_eval(bk)\n",
    "    rev_cnt += len(bk)\n",
    "    for review in bk:\n",
    "        rev_size += len(review)\n",
    "print(rev_size/rev_cnt)"
   ]
  },
  {
   "cell_type": "code",
   "execution_count": 11,
   "metadata": {},
   "outputs": [
    {
     "data": {
      "text/html": [
       "<div>\n",
       "<style scoped>\n",
       "    .dataframe tbody tr th:only-of-type {\n",
       "        vertical-align: middle;\n",
       "    }\n",
       "\n",
       "    .dataframe tbody tr th {\n",
       "        vertical-align: top;\n",
       "    }\n",
       "\n",
       "    .dataframe thead th {\n",
       "        text-align: right;\n",
       "    }\n",
       "</style>\n",
       "<table border=\"1\" class=\"dataframe\">\n",
       "  <thead>\n",
       "    <tr style=\"text-align: right;\">\n",
       "      <th></th>\n",
       "      <th>price</th>\n",
       "      <th>rating</th>\n",
       "      <th>rating_cnt</th>\n",
       "      <th>review_cnt</th>\n",
       "      <th>age</th>\n",
       "      <th>page</th>\n",
       "      <th>is_popular</th>\n",
       "    </tr>\n",
       "  </thead>\n",
       "  <tbody>\n",
       "    <tr>\n",
       "      <th>price</th>\n",
       "      <td>1.000000</td>\n",
       "      <td>0.412042</td>\n",
       "      <td>0.214165</td>\n",
       "      <td>0.279130</td>\n",
       "      <td>0.494697</td>\n",
       "      <td>0.626805</td>\n",
       "      <td>0.167868</td>\n",
       "    </tr>\n",
       "    <tr>\n",
       "      <th>rating</th>\n",
       "      <td>0.412042</td>\n",
       "      <td>1.000000</td>\n",
       "      <td>0.257363</td>\n",
       "      <td>0.360309</td>\n",
       "      <td>0.413557</td>\n",
       "      <td>0.478921</td>\n",
       "      <td>0.186526</td>\n",
       "    </tr>\n",
       "    <tr>\n",
       "      <th>rating_cnt</th>\n",
       "      <td>0.214165</td>\n",
       "      <td>0.257363</td>\n",
       "      <td>1.000000</td>\n",
       "      <td>0.679775</td>\n",
       "      <td>0.223373</td>\n",
       "      <td>0.113477</td>\n",
       "      <td>0.631253</td>\n",
       "    </tr>\n",
       "    <tr>\n",
       "      <th>review_cnt</th>\n",
       "      <td>0.279130</td>\n",
       "      <td>0.360309</td>\n",
       "      <td>0.679775</td>\n",
       "      <td>1.000000</td>\n",
       "      <td>0.335764</td>\n",
       "      <td>0.264604</td>\n",
       "      <td>0.407682</td>\n",
       "    </tr>\n",
       "    <tr>\n",
       "      <th>age</th>\n",
       "      <td>0.494697</td>\n",
       "      <td>0.413557</td>\n",
       "      <td>0.223373</td>\n",
       "      <td>0.335764</td>\n",
       "      <td>1.000000</td>\n",
       "      <td>0.385599</td>\n",
       "      <td>0.160864</td>\n",
       "    </tr>\n",
       "    <tr>\n",
       "      <th>page</th>\n",
       "      <td>0.626805</td>\n",
       "      <td>0.478921</td>\n",
       "      <td>0.113477</td>\n",
       "      <td>0.264604</td>\n",
       "      <td>0.385599</td>\n",
       "      <td>1.000000</td>\n",
       "      <td>0.102535</td>\n",
       "    </tr>\n",
       "    <tr>\n",
       "      <th>is_popular</th>\n",
       "      <td>0.167868</td>\n",
       "      <td>0.186526</td>\n",
       "      <td>0.631253</td>\n",
       "      <td>0.407682</td>\n",
       "      <td>0.160864</td>\n",
       "      <td>0.102535</td>\n",
       "      <td>1.000000</td>\n",
       "    </tr>\n",
       "  </tbody>\n",
       "</table>\n",
       "</div>"
      ],
      "text/plain": [
       "               price    rating  rating_cnt  review_cnt       age      page  \\\n",
       "price       1.000000  0.412042    0.214165    0.279130  0.494697  0.626805   \n",
       "rating      0.412042  1.000000    0.257363    0.360309  0.413557  0.478921   \n",
       "rating_cnt  0.214165  0.257363    1.000000    0.679775  0.223373  0.113477   \n",
       "review_cnt  0.279130  0.360309    0.679775    1.000000  0.335764  0.264604   \n",
       "age         0.494697  0.413557    0.223373    0.335764  1.000000  0.385599   \n",
       "page        0.626805  0.478921    0.113477    0.264604  0.385599  1.000000   \n",
       "is_popular  0.167868  0.186526    0.631253    0.407682  0.160864  0.102535   \n",
       "\n",
       "            is_popular  \n",
       "price         0.167868  \n",
       "rating        0.186526  \n",
       "rating_cnt    0.631253  \n",
       "review_cnt    0.407682  \n",
       "age           0.160864  \n",
       "page          0.102535  \n",
       "is_popular    1.000000  "
      ]
     },
     "execution_count": 11,
     "metadata": {},
     "output_type": "execute_result"
    }
   ],
   "source": [
    "# 10\n",
    "# Удивительно, но все фичи положительно коррелируют друг с другом\n",
    "# Из интересного - книжки с более маленьким возрастным рейтингом стоят явно дешевле\n",
    "# Довольно часто большая книжка стоит больше\n",
    "# Популярная книжка - не обязательно дорогая или большая\n",
    "# Чем дороже книжка - тем больше у нее оценка\n",
    "# У бОльших книжек больший рейтинг\n",
    "numeric_cols = data.describe().columns\n",
    "data[numeric_cols].corr()"
   ]
  },
  {
   "cell_type": "code",
   "execution_count": 12,
   "metadata": {},
   "outputs": [
    {
     "data": {
      "text/plain": [
       "[Text(0.5, 1.0, 'Scatterplot of # of pages vs # of reviews')]"
      ]
     },
     "execution_count": 12,
     "metadata": {},
     "output_type": "execute_result"
    },
    {
     "data": {
      "image/png": "[encoded data removed]",
      "text/plain": [
       "<Figure size 640x480 with 1 Axes>"
      ]
     },
     "metadata": {},
     "output_type": "display_data"
    }
   ],
   "source": [
    "# 11\n",
    "# По графику видно что особой связи между этими двумя признаками нет\n",
    "# Маленькие книжки оценивают больше, но нужно учитывать что маленьких книжек явно больше\n",
    "import seaborn as sns\n",
    "sns.scatterplot(data=data, x=\"page\", y=\"review_cnt\").set(title=\"Scatterplot of # of pages vs # of reviews\")"
   ]
  },
  {
   "cell_type": "code",
   "execution_count": 13,
   "metadata": {},
   "outputs": [
    {
     "data": {
      "text/plain": [
       "[Text(0.5, 1.0, 'Lineplot of # of books and year of creation')]"
      ]
     },
     "execution_count": 13,
     "metadata": {},
     "output_type": "execute_result"
    },
    {
     "data": {
      "image/png": "[encoded data removed]",
      "text/plain": [
       "<Figure size 640x480 with 1 Axes>"
      ]
     },
     "metadata": {},
     "output_type": "display_data"
    }
   ],
   "source": [
    "# 12\n",
    "# По графику видно что количество книг на платформе растет с каждым годом.\n",
    "# Возможно это связано с желанием платформы оставаться современной/отсутствием более старых книг\n",
    "# Возможные падения в 2016 году может быть связано с маленьким семплом данных\n",
    "# Падение в 2024 связано с тем что год еще не закончился. Эстраполируя текущее состояние видно что тренд продолжится.\n",
    "year_grouped = data.groupby(\"year\", as_index=False).count().dropna()\n",
    "plt = sns.lineplot(data=year_grouped.rename({\"links\":\"book count\"}, axis = 1), x=\"year\", y=\"book count\", n_boot=100)\n",
    "\n",
    "for ind, label in enumerate(plt.get_xticklabels()):\n",
    "    if ind % 4 == 0:\n",
    "        label.set_visible(True)\n",
    "    else:\n",
    "        label.set_visible(False)\n",
    "plt.set(title=\"Lineplot of # of books and year of creation\")"
   ]
  },
  {
   "cell_type": "code",
   "execution_count": 30,
   "metadata": {},
   "outputs": [
    {
     "data": {
      "text/plain": [
       "[Text(0.5, 1.0, 'Distribution of price with respect to popularity')]"
      ]
     },
     "execution_count": 30,
     "metadata": {},
     "output_type": "execute_result"
    },
    {
     "data": {
      "image/png": "[encoded data removed]",
      "text/plain": [
       "<Figure size 640x480 with 1 Axes>"
      ]
     },
     "metadata": {},
     "output_type": "display_data"
    }
   ],
   "source": [
    "# 13\n",
    "# Из boxplot'а видно что популярная книга в общем стоют чуть дороже не популярных, но все еще дешево.\n",
    "sns.boxplot(data=data, x=\"is_popular\", y=\"price\").set(title=\"Distribution of price with respect to popularity\")"
   ]
  },
  {
   "cell_type": "code",
   "execution_count": 32,
   "metadata": {},
   "outputs": [
    {
     "data": {
      "text/plain": [
       "[Text(0.5, 1.0, 'Distribution of price with respect to popularity')]"
      ]
     },
     "execution_count": 32,
     "metadata": {},
     "output_type": "execute_result"
    },
    {
     "data": {
      "image/png": "[encoded data removed]",
      "text/plain": [
       "<Figure size 640x480 with 1 Axes>"
      ]
     },
     "metadata": {},
     "output_type": "display_data"
    }
   ],
   "source": [
    "# Из этой гистограммы видно что многие книжки по программированию доступны с 0 лет (айтишник с 0 лет)\n",
    "sns.histplot(data=data, x=\"age\").set(title=\"Distribution of price with respect to popularity\")"
   ]
  },
  {
   "cell_type": "code",
   "execution_count": 23,
   "metadata": {},
   "outputs": [
    {
     "data": {
      "text/html": [
       "<div>\n",
       "<style scoped>\n",
       "    .dataframe tbody tr th:only-of-type {\n",
       "        vertical-align: middle;\n",
       "    }\n",
       "\n",
       "    .dataframe tbody tr th {\n",
       "        vertical-align: top;\n",
       "    }\n",
       "\n",
       "    .dataframe thead th {\n",
       "        text-align: right;\n",
       "    }\n",
       "</style>\n",
       "<table border=\"1\" class=\"dataframe\">\n",
       "  <thead>\n",
       "    <tr style=\"text-align: right;\">\n",
       "      <th></th>\n",
       "      <th>author</th>\n",
       "      <th>name</th>\n",
       "      <th>rating</th>\n",
       "      <th>review_cnt</th>\n",
       "    </tr>\n",
       "  </thead>\n",
       "  <tbody>\n",
       "    <tr>\n",
       "      <th>0</th>\n",
       "      <td>Arsen Gonian</td>\n",
       "      <td>1</td>\n",
       "      <td>5.00</td>\n",
       "      <td>1.0</td>\n",
       "    </tr>\n",
       "    <tr>\n",
       "      <th>1</th>\n",
       "      <td>C. И. Никишов</td>\n",
       "      <td>1</td>\n",
       "      <td>4.67</td>\n",
       "      <td>3.0</td>\n",
       "    </tr>\n",
       "    <tr>\n",
       "      <th>2</th>\n",
       "      <td>ChatGPT-4</td>\n",
       "      <td>1</td>\n",
       "      <td>3.83</td>\n",
       "      <td>12.0</td>\n",
       "    </tr>\n",
       "    <tr>\n",
       "      <th>3</th>\n",
       "      <td>Eugeny Shtoltc</td>\n",
       "      <td>2</td>\n",
       "      <td>2.50</td>\n",
       "      <td>0.0</td>\n",
       "    </tr>\n",
       "    <tr>\n",
       "      <th>4</th>\n",
       "      <td>Jade Carter</td>\n",
       "      <td>1</td>\n",
       "      <td>0.00</td>\n",
       "      <td>0.0</td>\n",
       "    </tr>\n",
       "    <tr>\n",
       "      <th>...</th>\n",
       "      <td>...</td>\n",
       "      <td>...</td>\n",
       "      <td>...</td>\n",
       "      <td>...</td>\n",
       "    </tr>\n",
       "    <tr>\n",
       "      <th>642</th>\n",
       "      <td>Я. А. Хетагуров</td>\n",
       "      <td>1</td>\n",
       "      <td>4.83</td>\n",
       "      <td>0.0</td>\n",
       "    </tr>\n",
       "    <tr>\n",
       "      <th>643</th>\n",
       "      <td>Я. М. Иваньо</td>\n",
       "      <td>1</td>\n",
       "      <td>0.00</td>\n",
       "      <td>0.0</td>\n",
       "    </tr>\n",
       "    <tr>\n",
       "      <th>644</th>\n",
       "      <td>Я. Н. Зайдельман</td>\n",
       "      <td>1</td>\n",
       "      <td>0.00</td>\n",
       "      <td>2.0</td>\n",
       "    </tr>\n",
       "    <tr>\n",
       "      <th>645</th>\n",
       "      <td>Ян Пойнтер</td>\n",
       "      <td>1</td>\n",
       "      <td>3.60</td>\n",
       "      <td>2.0</td>\n",
       "    </tr>\n",
       "    <tr>\n",
       "      <th>646</th>\n",
       "      <td>Ярон Мински</td>\n",
       "      <td>1</td>\n",
       "      <td>5.00</td>\n",
       "      <td>2.0</td>\n",
       "    </tr>\n",
       "  </tbody>\n",
       "</table>\n",
       "<p>647 rows × 4 columns</p>\n",
       "</div>"
      ],
      "text/plain": [
       "               author  name  rating  review_cnt\n",
       "0        Arsen Gonian     1    5.00         1.0\n",
       "1       C. И. Никишов     1    4.67         3.0\n",
       "2           ChatGPT-4     1    3.83        12.0\n",
       "3      Eugeny Shtoltc     2    2.50         0.0\n",
       "4         Jade Carter     1    0.00         0.0\n",
       "..                ...   ...     ...         ...\n",
       "642   Я. А. Хетагуров     1    4.83         0.0\n",
       "643      Я. М. Иваньо     1    0.00         0.0\n",
       "644  Я. Н. Зайдельман     1    0.00         2.0\n",
       "645        Ян Пойнтер     1    3.60         2.0\n",
       "646       Ярон Мински     1    5.00         2.0\n",
       "\n",
       "[647 rows x 4 columns]"
      ]
     },
     "execution_count": 23,
     "metadata": {},
     "output_type": "execute_result"
    }
   ],
   "source": [
    "# 14\n",
    "data.groupby(\"author\", as_index=False).agg({\"name\": \"count\", \"rating\": \"mean\", \"review_cnt\": \"mean\"})"
   ]
  },
  {
   "cell_type": "code",
   "execution_count": 37,
   "metadata": {},
   "outputs": [
    {
     "name": "stderr",
     "output_type": "stream",
     "text": [
      "c:\\Users\\Sava\\AppData\\Local\\Programs\\Python\\Python311\\Lib\\site-packages\\numpy\\core\\fromnumeric.py:3504: RuntimeWarning: Mean of empty slice.\n",
      "  return _methods._mean(a, axis=axis, dtype=dtype,\n",
      "c:\\Users\\Sava\\AppData\\Local\\Programs\\Python\\Python311\\Lib\\site-packages\\numpy\\core\\_methods.py:129: RuntimeWarning: invalid value encountered in scalar divide\n",
      "  ret = ret.dtype.type(ret / rcount)\n"
     ]
    }
   ],
   "source": [
    "# 15\n",
    "# Зависит ли оценка от длины комментариев людей?\n",
    "import numpy as np\n",
    "data['review_lengths'] = data['reviews'].apply(lambda x: np.mean([len(rev) for rev in ast.literal_eval(x)]))\n",
    "review_data = data.dropna()"
   ]
  },
  {
   "cell_type": "code",
   "execution_count": 44,
   "metadata": {},
   "outputs": [
    {
     "data": {
      "text/html": [
       "<div>\n",
       "<style scoped>\n",
       "    .dataframe tbody tr th:only-of-type {\n",
       "        vertical-align: middle;\n",
       "    }\n",
       "\n",
       "    .dataframe tbody tr th {\n",
       "        vertical-align: top;\n",
       "    }\n",
       "\n",
       "    .dataframe thead th {\n",
       "        text-align: right;\n",
       "    }\n",
       "</style>\n",
       "<table border=\"1\" class=\"dataframe\">\n",
       "  <thead>\n",
       "    <tr style=\"text-align: right;\">\n",
       "      <th></th>\n",
       "      <th>review_lengths</th>\n",
       "      <th>rating</th>\n",
       "    </tr>\n",
       "  </thead>\n",
       "  <tbody>\n",
       "    <tr>\n",
       "      <th>review_lengths</th>\n",
       "      <td>1.00000</td>\n",
       "      <td>-0.04782</td>\n",
       "    </tr>\n",
       "    <tr>\n",
       "      <th>rating</th>\n",
       "      <td>-0.04782</td>\n",
       "      <td>1.00000</td>\n",
       "    </tr>\n",
       "  </tbody>\n",
       "</table>\n",
       "</div>"
      ],
      "text/plain": [
       "                review_lengths   rating\n",
       "review_lengths         1.00000 -0.04782\n",
       "rating                -0.04782  1.00000"
      ]
     },
     "execution_count": 44,
     "metadata": {},
     "output_type": "execute_result"
    }
   ],
   "source": [
    "review_data[['review_lengths', \"rating\"]].corr()"
   ]
  },
  {
   "cell_type": "code",
   "execution_count": 42,
   "metadata": {},
   "outputs": [
    {
     "data": {
      "text/plain": [
       "[Text(0.5, 1.0, 'Scatterplot of # of pages vs # of reviews')]"
      ]
     },
     "execution_count": 42,
     "metadata": {},
     "output_type": "execute_result"
    },
    {
     "data": {
      "image/png": "[encoded data removed]",
      "text/plain": [
       "<Figure size 640x480 with 1 Axes>"
      ]
     },
     "metadata": {},
     "output_type": "display_data"
    }
   ],
   "source": [
    "sns.scatterplot(data=review_data, x=\"rating\", y=\"review_lengths\").set(title=\"Scatterplot of # of pages vs # of reviews\")\n",
    "# Оказывается что нет! Люди пишут большие отзывы как для книг которые им понравилось, так и для книг которые не понравились, что указывает на здоровую критику и восхваление"
   ]
  }
 ],
 "metadata": {
  "kernelspec": {
   "display_name": "Python 3",
   "language": "python",
   "name": "python3"
  },
  "language_info": {
   "codemirror_mode": {
    "name": "ipython",
    "version": 3
   },
   "file_extension": ".py",
   "mimetype": "text/x-python",
   "name": "python",
   "nbconvert_exporter": "python",
   "pygments_lexer": "ipython3",
   "version": "3.11.5"
  }
 },
 "nbformat": 4,
 "nbformat_minor": 2
}
